{
 "cells": [
  {
   "cell_type": "markdown",
   "metadata": {},
   "source": [
    "---\n",
    "toc: true\n",
    "comments: false\n",
    "layout: post\n",
    "title: Ticket\n",
    "description: Example Blog!!!  This shows planning and notes from hacks.\n",
    "type: tangibles\n",
    "courses: { compsci: {week: 6} }\n",
    "---"
   ]
  },
  {
   "cell_type": "code",
   "execution_count": 2,
   "metadata": {},
   "outputs": [
    {
     "name": "stdout",
     "output_type": "stream",
     "text": [
      "pip 23.2.1 from /Users/karamkambo/Library/Python/3.9/lib/python/site-packages/pip (python 3.9)\n",
      "Homebrew 4.1.7\n",
      "Homebrew/homebrew-core (git revision e2c05cf45b6; last commit 2023-08-25)\n",
      "ruby 2.6.10p210 (2022-04-12 revision 67958) [universal.x86_64-darwin21]\n",
      "Selected Jupyter core packages...\n",
      "IPython          : 8.15.0\n",
      "ipykernel        : 6.25.1\n",
      "ipywidgets       : not installed\n",
      "jupyter_client   : 8.3.0\n",
      "jupyter_core     : 5.3.1\n",
      "jupyter_server   : not installed\n",
      "jupyterlab       : not installed\n",
      "nbclient         : 0.8.0\n",
      "nbconvert        : 7.7.4\n",
      "nbformat         : 5.9.2\n",
      "notebook         : not installed\n",
      "qtconsole        : not installed\n",
      "traitlets        : 5.9.0\n",
      "title: CompSci Blogs\n",
      "description: \"August 2023 to June 2024\"\n",
      "owner_name: Nighthawk Coders\n",
      "github_username: nighthawkcoders\n",
      "baseurl: \"/student\"\n",
      "remote_theme: pages-themes/midnight@v0.2.0\n",
      "# remote_theme: pages-themes/dinky@v0.2.0\n",
      "# remote_theme: pages-themes/minimal@v0.2.0\n",
      "# remote_theme: pages-themes/hacker@v0.2.0\n",
      "# remote_theme: pages-themes/cayman@v0.2.0\n",
      "# remote_theme: pages-themes/time-machine@v0.2.0\n",
      "plugins:\n",
      "- jekyll-remote-theme\n",
      "future: true\n"
     ]
    }
   ],
   "source": [
    "%%script bash\n",
    "pip --version\n",
    "brew --version\n",
    "ruby -v\n",
    "jupyter --version\n",
    "cd /Users/karamkambo/vscode/stunew\n",
    "cat _config.yml"
   ]
  }
 ],
 "metadata": {
  "kernelspec": {
   "display_name": "Python 3",
   "language": "python",
   "name": "python3"
  },
  "language_info": {
   "codemirror_mode": {
    "name": "ipython",
    "version": 3
   },
   "file_extension": ".py",
   "mimetype": "text/x-python",
   "name": "python",
   "nbconvert_exporter": "python",
   "pygments_lexer": "ipython3",
   "version": "3.9.6"
  },
  "orig_nbformat": 4
 },
 "nbformat": 4,
 "nbformat_minor": 2
}
