{
 "cells": [
  {
   "cell_type": "code",
   "execution_count": null,
   "metadata": {},
   "outputs": [],
   "source": [
    "Stockitfy\n",
    "    [Issue 1](https://github.com/Swaggerplayer33/Flask-Server-Front-End/issues/12)\\n\",\n",
    "    \n",
    "     Calorie and Meal Plan Api\n",
    "    \"[Issue 2](https://github.com/jaydenchen17/ppfrontend/issues/1)\\n\",\n",
    "   \n",
    "     Football API\n",
    "    \"[Issue 3](https://github.com/Marcushe31/TeamTalk/issues/1)\\n\"\n",
    "  "
   ]
  }
 ],
 "metadata": {
  "language_info": {
   "name": "python"
  },
  "orig_nbformat": 4
 },
 "nbformat": 4,
 "nbformat_minor": 2
}
