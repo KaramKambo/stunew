{
 "cells": [
  {
   "cell_type": "markdown",
   "metadata": {},
   "source": [
    "---\n",
    "toc: true\n",
    "comments: false\n",
    "layout: post\n",
    "title: College Board Reflection\n",
    "description: Example Blog!!!  This shows planning and notes from hacks.\n",
    "type: tangibles\n",
    "courses: { compsci: {week: 11} }\n",
    "---"
   ]
  },
  {
   "cell_type": "markdown",
   "metadata": {},
   "source": [
    "## What I got Wrong\n",
    "\n",
    "- Q65: Correcting errors in procedure Multiply: This option is incorrect. If x and y are both positive, the procedure will correctly calculate the product by adding x to itself y times.\n",
    "\n",
    "- Q64: Cloud Computing Internet: This option is incorrect. Redundant routing provides fault tolerance, which enables a cloud storage site to continue to operate if some part of a network fails.\n",
    "\n",
    "- Q59:Movie studio media librarian: This option is incorrect. Using redundancy will help ensure that video files are not lost if a storage device fails.\n",
    "\n",
    "- Q55: Results of the KeepPlaying procedure: This option is incorrect. The procedure always returns false.\n",
    "\n",
    "- Q52:Algorithms to identify palindrome words in list: This option is incorrect. Option II works correctly, but option III works as well because of the functionality of a palindrome.\n",
    "\n",
    "- Q50:Searching list target: This option is incorrect. The procedure does not implement a binary search and does not need to be in sorted order to implement a linear search.\n",
    "\n",
    "- Q34: Mouse and predator simulations: This option is incorrect. The number of mice changes each day as determined by the One word, Next Day Population procedure.\n",
    "\n",
    "- Q26: Completing robot code by adding if statement: This option is incorrect. This code segment moves the robot up and down between its initial location and the square above its initial location.\n",
    "\n",
    "- Q25: Shortening strings by replacing TH and IS: This option is incorrect. This string can be shortened using byte pair encoding. For example, Open quotation, BANANA, close quotation can be shortened to Open quotation, B, asterisk, asterisk, A, close quotation by replacing each instance of Open quotation, AN, close quotation with Open quotation, asterisk, close quotation.\n",
    "\n",
    "- Q23: Redundant routing with four computers: This option is incorrect. There are multiple paths from P to S (for example, P to S and P to Q to S).\n",
    "\n",
    "- Q14: Comparing loop algorithms: \n",
    "This option is incorrect. The programs display different values.\n",
    "- Q1: Swap values first and second: This option is incorrect. The code segment never changes the value of second."
   ]
  }
 ],
 "metadata": {
  "language_info": {
   "name": "python"
  },
  "orig_nbformat": 4
 },
 "nbformat": 4,
 "nbformat_minor": 2
}
