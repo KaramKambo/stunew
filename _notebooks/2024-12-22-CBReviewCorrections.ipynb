{
 "cells": [
  {
   "cell_type": "markdown",
   "metadata": {},
   "source": [
    "Q4 In a certain computer program, two positive integers are added together, resulting in an overflow error. Which of the following best explains why the error occurs?\n",
    "The program can only use a fixed number of bits to represent integers; the computed sum is greater than the maximum representable value.\n",
    "Correct. Overflow errors occur when an arithmetic operation results in a value outside the range of numbers that can be represented by a fixed number of bits.\n",
    "\n",
    "Q5 Incorrect. With these inputs, the OR gate will produce an output of true and the first AND gate will produce an output of false. Since only one input to the second AND gate will be true, the circuit will have an output of false.\n",
    "Correct. With these inputs, the OR gate will produce an output of true and the first AND gate will produce an output of true. Since both inputs to the second AND gate will be true, the circuit will have an output of true.\n",
    "\n",
    "Q23 Answer D\n",
    "Correct. The flowchart sets available to true whenever weekday is true and miles is less than 20, and sets available to false otherwise. This code statement provides the same functionality.\n",
    "Q30\n",
    "Answer D\n",
    "Correct. The string \"out of range\" could only be displayed if the condition n ≥ 1 was false. If the initial value of n is at least 0, then n will be incremented by 1, making n at least 1. Therefore the condition n ≥ 1 will be true and \"out of range\" will not be displayed. If the initial value of n is negative, then n will be multiplied by -1, making n at least 1. Therefore the condition n ≥ 1 will be true and \"out of range\" will not be displayed.\n",
    "\n",
    "Q50 \n",
    "Answer D\n",
    "Correct. For an algorithm to run in reasonable time, it must take a number of steps less than or equal to a polynomial function. Algorithm I accesses elements \n",
    " times (twice for each of n elements), which is considered reasonable time. Algorithm II accesses \n",
    " elements (n times for each of n elements), which is considered reasonable time. Algorithm III accesses 10 elements, which is considered reasonable time.\n",
    "\n",
    " Q56 \n",
    " Answer D\n",
    "Correct. Version I calls the GetPrediction procedure once for each element of idList, or four times total. Since each call requires 1 minute of execution time, version I requires approximately 4 minutes to execute. Version II calls the GetPrediction procedure twice for each element of idList, and then again in the final display statement. This results in the procedure being called nine times, requiring approximately 9 minutes of execution time.\n",
    "\n",
    "  Q64 \n",
    "  Correct. Since y is initially negative, the loop condition count ≥ y is initially true, so the body of the loop is never executed and 0 is returned.\n",
    "\n",
    "  Correct. This code segment stores the substring \"lope\" in animal. It then concatenates \"a\" and \"lope\", storing the result \"alope\" in animal. Lastly, it concatenates the substring \"jack\" and \"alope\", storing the result \"jackalope\" in animal.\n",
    "\n",
    "Q67 \n",
    "Correct. For this code segment, count is increased to 1 the first time \"maple\" is encountered in the list. However, count is reset to 0 when the code segment moves to the next list element. This causes the procedure to return 0 instead of the intended result 1.\n"
   ]
  }
 ],
 "metadata": {
  "language_info": {
   "name": "python"
  },
  "orig_nbformat": 4
 },
 "nbformat": 4,
 "nbformat_minor": 2
}
