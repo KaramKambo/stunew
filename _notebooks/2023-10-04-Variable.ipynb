{
 "cells": [
  {
   "cell_type": "markdown",
   "metadata": {},
   "source": [
    "---\n",
    "toc: true\n",
    "comments: false\n",
    "layout: post\n",
    "title: Variables\n",
    "description: Example Blog!!!  This shows planning and notes from hacks.\n",
    "type: tangibles\n",
    "courses: { compsci: {week: 3} }\n",
    "---"
   ]
  },
  {
   "cell_type": "markdown",
   "metadata": {},
   "source": [
    "In this one I designed and explained the apple and the color red. I also assigned things to strings"
   ]
  },
  {
   "cell_type": "code",
   "execution_count": null,
   "metadata": {},
   "outputs": [],
   "source": [
    "apple = \"red\"\n",
    "print(apple)"
   ]
  },
  {
   "cell_type": "code",
   "execution_count": 2,
   "metadata": {},
   "outputs": [
    {
     "name": "stdout",
     "output_type": "stream",
     "text": [
      "16 is the integer\n",
      "False is the boolean\n",
      "toyota is the string\n"
     ]
    }
   ],
   "source": [
    "age = 16\n",
    "fireIsActive = False\n",
    "car = \"toyota\"\n",
    "print( str(age) + \" is the integer\")\n",
    "print(str(fireIsActive) + \" is the boolean\")\n",
    "print(car+ \" is the string\")"
   ]
  },
  {
   "cell_type": "code",
   "execution_count": 12,
   "metadata": {},
   "outputs": [
    {
     "name": "stdout",
     "output_type": "stream",
     "text": [
      "72\n"
     ]
    }
   ],
   "source": [
    "height = 72\n",
    "newHeight = height\n",
    "height = 75\n",
    "print(str(newHeight))"
   ]
  },
  {
   "cell_type": "code",
   "execution_count": 14,
   "metadata": {},
   "outputs": [
    {
     "name": "stdout",
     "output_type": "stream",
     "text": [
      "Csp\n"
     ]
    }
   ],
   "source": [
    "classes = [\"Calc\", \"Csp\", \"Engineering\", \"APES\"]\n",
    "print(classes[1])"
   ]
  },
  {
   "cell_type": "markdown",
   "metadata": {},
   "source": [
    "## HW Hack 1"
   ]
  },
  {
   "cell_type": "code",
   "execution_count": 5,
   "metadata": {},
   "outputs": [
    {
     "name": "stdout",
     "output_type": "stream",
     "text": [
      "3 is the integer\n",
      "red is the string\n",
      "['Basketball', 'Soccer', 'Football', 'Baseball'] is the list\n",
      "True is the boolean\n"
     ]
    }
   ],
   "source": [
    "# Integer\n",
    "numCars = 3\n",
    "print(str(numCars) + \" is the integer\")\n",
    "\n",
    "# String\n",
    "\n",
    "apple = \"red\"\n",
    "print(apple + \" is the string\")\n",
    "\n",
    "# List\n",
    "sports = [\"Basketball\",\"Soccer\",\"Football\",\"Baseball\"]\n",
    "print(str(sports) + \" is the list\")\n",
    "\n",
    "# Boolean\n",
    "\n",
    "parisIsACity = True\n",
    "print(str(parisIsACity) + \" is the boolean\")\n",
    "\n"
   ]
  },
  {
   "cell_type": "markdown",
   "metadata": {},
   "source": [
    "## HW Hack 2"
   ]
  },
  {
   "cell_type": "code",
   "execution_count": 1,
   "metadata": {},
   "outputs": [
    {
     "name": "stdout",
     "output_type": "stream",
     "text": [
      "There are 16 in the room\n",
      "Calc\n",
      "Boolean in False\n",
      "Karam\n",
      "<class 'list'>\n",
      "[1, 2, 3, 4]\n",
      "<class 'list'>\n"
     ]
    }
   ],
   "source": [
    "# integer\n",
    "people = 16\n",
    "print (\"There are \" + str(people) + \" in the room\")\n",
    "\n",
    "# list\n",
    "schedule = [\"Poe\",\"Calc\",\"Csp\",\"USH\"]\n",
    "print(schedule[1])\n",
    "\n",
    "# boolean\n",
    "fire = False\n",
    "print(\"Boolean in \"+ str(fire))\n",
    "\n",
    "name = \"Karam\"\n",
    "print(name)\n",
    "\n",
    "import json\n",
    "numbers = [1,2,3,4]\n",
    "\n",
    "print(type(numbers))\n",
    "\n",
    "ages = json.dumps(numbers)\n",
    "print(numbers)\n",
    "print(type(numbers))\n"
   ]
  }
 ],
 "metadata": {
  "kernelspec": {
   "display_name": "Python 3",
   "language": "python",
   "name": "python3"
  },
  "language_info": {
   "codemirror_mode": {
    "name": "ipython",
    "version": 3
   },
   "file_extension": ".py",
   "mimetype": "text/x-python",
   "name": "python",
   "nbconvert_exporter": "python",
   "pygments_lexer": "ipython3",
   "version": "3.9.6"
  },
  "orig_nbformat": 4
 },
 "nbformat": 4,
 "nbformat_minor": 2
}
