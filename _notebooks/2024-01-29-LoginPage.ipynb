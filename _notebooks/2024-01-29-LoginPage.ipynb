{
 "cells": [
  {
   "cell_type": "code",
   "execution_count": 1,
   "metadata": {
    "vscode": {
     "languageId": "javascript"
    }
   },
   "outputs": [
    {
     "ename": "SyntaxError",
     "evalue": "invalid syntax (276436040.py, line 1)",
     "output_type": "error",
     "traceback": [
      "\u001b[0;36m  Cell \u001b[0;32mIn[1], line 1\u001b[0;36m\u001b[0m\n\u001b[0;31m    const apiUrl = 'http://localhost:8911/api/Login/'; // Replace with the actual API URL\u001b[0m\n\u001b[0m          ^\u001b[0m\n\u001b[0;31mSyntaxError\u001b[0m\u001b[0;31m:\u001b[0m invalid syntax\n"
     ]
    }
   ],
   "source": [
    "\n",
    "    .then(response => response.json()) \n",
    "    .then(data => {\n",
    "        // Organize the data into a dictionary\n",
    "        const organizedData = {\n",
    "            Login_api: {\n",
    "                url_prefix: '/api/Login',\n",
    "                LoginAPI: {\n",
    "                    get: {\n",
    "                        description: 'Retrieve all Logins from the database',\n",
    "                        url: '/api/Login',\n",
    "                        method: 'GET',\n",
    "                        data: data, // Include the retrieved data here\n",
    "                        mode: \"cors\"\n",
    "                    },\n",
    "                },\n",
    "            },\n",
    "            LoginListAPI: {\n",
    "                LoginListAPI: {\n",
    "                    get: {\n",
    "                        description: 'Retrieve all Logins from the database',\n",
    "                        url: '/api/Login',\n",
    "                        method: 'GET',\n",
    "                        data: data, \n",
    "                        mode: \"cors\"\n",
    "                    },\n",
    "                },\n",
    "            },\n",
    "        };\n",
    "       \n",
    "        Data = organizedData.Login_api.LoginAPI.get.data;"
   ]
  }
 ],
 "metadata": {
  "kernelspec": {
   "display_name": "Python 3",
   "language": "python",
   "name": "python3"
  },
  "language_info": {
   "codemirror_mode": {
    "name": "ipython",
    "version": 3
   },
   "file_extension": ".py",
   "mimetype": "text/x-python",
   "name": "python",
   "nbconvert_exporter": "python",
   "pygments_lexer": "ipython3",
   "version": "3.9.6"
  },
  "orig_nbformat": 4
 },
 "nbformat": 4,
 "nbformat_minor": 2
}
